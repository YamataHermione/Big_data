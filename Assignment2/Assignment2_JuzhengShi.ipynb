{
 "cells": [
  {
   "cell_type": "code",
   "execution_count": 84,
   "id": "05a14edd",
   "metadata": {},
   "outputs": [],
   "source": [
    "import pyspark"
   ]
  },
  {
   "cell_type": "code",
   "execution_count": 85,
   "id": "4096d772",
   "metadata": {},
   "outputs": [],
   "source": [
    "from pyspark.sql import SparkSession"
   ]
  },
  {
   "cell_type": "code",
   "execution_count": 86,
   "id": "f30b3570",
   "metadata": {},
   "outputs": [],
   "source": [
    "spark = SparkSession.builder.appName(\"Assignment2\").getOrCreate()"
   ]
  },
  {
   "cell_type": "code",
   "execution_count": 87,
   "id": "71513399",
   "metadata": {},
   "outputs": [
    {
     "data": {
      "text/html": [
       "\n",
       "            <div>\n",
       "                <p><b>SparkSession - in-memory</b></p>\n",
       "                \n",
       "        <div>\n",
       "            <p><b>SparkContext</b></p>\n",
       "\n",
       "            <p><a href=\"http://192.168.108.128:4040\">Spark UI</a></p>\n",
       "\n",
       "            <dl>\n",
       "              <dt>Version</dt>\n",
       "                <dd><code>v3.2.1</code></dd>\n",
       "              <dt>Master</dt>\n",
       "                <dd><code>local[*]</code></dd>\n",
       "              <dt>AppName</dt>\n",
       "                <dd><code>Assignment2</code></dd>\n",
       "            </dl>\n",
       "        </div>\n",
       "        \n",
       "            </div>\n",
       "        "
      ],
      "text/plain": [
       "<pyspark.sql.session.SparkSession at 0x7f4ea9f644f0>"
      ]
     },
     "execution_count": 87,
     "metadata": {},
     "output_type": "execute_result"
    }
   ],
   "source": [
    "spark"
   ]
  },
  {
   "cell_type": "code",
   "execution_count": 94,
   "id": "6cd363fa",
   "metadata": {},
   "outputs": [],
   "source": [
    "input_path = \"tmp/movies.txt\""
   ]
  },
  {
   "cell_type": "code",
   "execution_count": 95,
   "id": "f1556aa7",
   "metadata": {},
   "outputs": [],
   "source": [
    "rdd = spark.sparkContext.textFile(input_path)"
   ]
  },
  {
   "cell_type": "code",
   "execution_count": 96,
   "id": "292434ad",
   "metadata": {},
   "outputs": [],
   "source": [
    "#clean\n",
    "def clean(record):\n",
    "    tokens = record.split(',')\n",
    "    movie_id = tokens[1]\n",
    "    rating = int(tokens[2])\n",
    "    return (movie_id, (rating, 1))"
   ]
  },
  {
   "cell_type": "code",
   "execution_count": 97,
   "id": "a80a430a",
   "metadata": {},
   "outputs": [],
   "source": [
    "tmp = rdd.filter(lambda x: len(x.split(','))==3)\n",
    "pairs = tmp.map(clean)"
   ]
  },
  {
   "cell_type": "code",
   "execution_count": 98,
   "id": "bf579b05",
   "metadata": {},
   "outputs": [],
   "source": [
    "#calculate average\n",
    "average = pairs.filter(lambda x: x[1][0] >= 2).\\\n",
    "reduceByKey(lambda a,b: (a[0] + b[0], a[1] + b[1])).\\\n",
    "mapValues(lambda x: x[0]/x[1]).\\\n",
    "filter(lambda x:x[1]>=2.5).\\\n",
    "collect()"
   ]
  },
  {
   "cell_type": "code",
   "execution_count": 99,
   "id": "fdc451cd",
   "metadata": {},
   "outputs": [
    {
     "name": "stdout",
     "output_type": "stream",
     "text": [
      "m1 3.0\n",
      "m2 4.0\n",
      "m3 4.2\n",
      "m4 5.0\n",
      "m5 5.0\n"
     ]
    }
   ],
   "source": [
    "for pair in sorted(average,key=lambda X: X[0]):\n",
    "    print(pair[0], pair[1])"
   ]
  },
  {
   "cell_type": "code",
   "execution_count": 100,
   "id": "46a49b2a",
   "metadata": {},
   "outputs": [],
   "source": [
    "#rating 5\n",
    "def ratingFiveCount(record):\n",
    "    tokens = record.split(',')\n",
    "    usr_id = tokens[0]\n",
    "    movie_id = tokens[1]\n",
    "    rating = int(tokens[2])\n",
    "    if(rating == 5):\n",
    "        return (\"rating-5\", movie_id)\n",
    "    else:\n",
    "        return (\"else\", movie_id)"
   ]
  },
  {
   "cell_type": "code",
   "execution_count": 101,
   "id": "601b55d9",
   "metadata": {},
   "outputs": [],
   "source": [
    "def set_(values):\n",
    "    return set(values)"
   ]
  },
  {
   "cell_type": "code",
   "execution_count": 102,
   "id": "b8baf9d5",
   "metadata": {},
   "outputs": [
    {
     "name": "stdout",
     "output_type": "stream",
     "text": [
      "rating-5 {'m3', 'm5', 'm2', 'm4', 'm1'}\n"
     ]
    }
   ],
   "source": [
    "output = tmp.map(ratingFiveCount).groupByKey().mapValues(set_).collect()[0]\n",
    "print(output[0], output[1])"
   ]
  },
  {
   "cell_type": "code",
   "execution_count": 103,
   "id": "b0e9b818",
   "metadata": {},
   "outputs": [],
   "source": [
    "spark.stop()"
   ]
  },
  {
   "cell_type": "code",
   "execution_count": null,
   "id": "3da1e4c4",
   "metadata": {},
   "outputs": [],
   "source": []
  }
 ],
 "metadata": {
  "kernelspec": {
   "display_name": "Python 3 (ipykernel)",
   "language": "python",
   "name": "python3"
  },
  "language_info": {
   "codemirror_mode": {
    "name": "ipython",
    "version": 3
   },
   "file_extension": ".py",
   "mimetype": "text/x-python",
   "name": "python",
   "nbconvert_exporter": "python",
   "pygments_lexer": "ipython3",
   "version": "3.8.10"
  }
 },
 "nbformat": 4,
 "nbformat_minor": 5
}
