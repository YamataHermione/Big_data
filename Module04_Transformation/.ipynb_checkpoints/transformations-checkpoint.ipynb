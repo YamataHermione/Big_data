{
 "cells": [
  {
   "cell_type": "code",
   "execution_count": 1,
   "id": "28589e61",
   "metadata": {},
   "outputs": [],
   "source": [
    "from pyspark.sql import SparkSession"
   ]
  },
  {
   "cell_type": "code",
   "execution_count": 2,
   "id": "3e7a3228",
   "metadata": {},
   "outputs": [
    {
     "name": "stderr",
     "output_type": "stream",
     "text": [
      "22/04/21 19:42:20 WARN Utils: Your hostname, ubuntu resolves to a loopback address: 127.0.1.1; using 192.168.108.128 instead (on interface ens33)\n",
      "22/04/21 19:42:20 WARN Utils: Set SPARK_LOCAL_IP if you need to bind to another address\n",
      "Using Spark's default log4j profile: org/apache/spark/log4j-defaults.properties\n",
      "Setting default log level to \"WARN\".\n",
      "To adjust logging level use sc.setLogLevel(newLevel). For SparkR, use setLogLevel(newLevel).\n",
      "22/04/21 19:42:21 WARN NativeCodeLoader: Unable to load native-hadoop library for your platform... using builtin-java classes where applicable\n"
     ]
    }
   ],
   "source": [
    "spark = SparkSession.builder.appName(\"test\").getOrCreate()"
   ]
  },
  {
   "cell_type": "code",
   "execution_count": 3,
   "id": "904108e3",
   "metadata": {},
   "outputs": [
    {
     "data": {
      "text/html": [
       "\n",
       "            <div>\n",
       "                <p><b>SparkSession - in-memory</b></p>\n",
       "                \n",
       "        <div>\n",
       "            <p><b>SparkContext</b></p>\n",
       "\n",
       "            <p><a href=\"http://192.168.108.128:4040\">Spark UI</a></p>\n",
       "\n",
       "            <dl>\n",
       "              <dt>Version</dt>\n",
       "                <dd><code>v3.2.1</code></dd>\n",
       "              <dt>Master</dt>\n",
       "                <dd><code>local[*]</code></dd>\n",
       "              <dt>AppName</dt>\n",
       "                <dd><code>test</code></dd>\n",
       "            </dl>\n",
       "        </div>\n",
       "        \n",
       "            </div>\n",
       "        "
      ],
      "text/plain": [
       "<pyspark.sql.session.SparkSession at 0x7fee11c66130>"
      ]
     },
     "execution_count": 3,
     "metadata": {},
     "output_type": "execute_result"
    }
   ],
   "source": [
    "spark"
   ]
  },
  {
   "cell_type": "code",
   "execution_count": 10,
   "id": "a88b6666",
   "metadata": {},
   "outputs": [],
   "source": [
    "rdd = spark.sparkContext.textFile(\"input.txt\")"
   ]
  },
  {
   "cell_type": "code",
   "execution_count": 13,
   "id": "a313ef45",
   "metadata": {},
   "outputs": [],
   "source": [
    "pairs = rdd.map(lambda X: (X, len(X)))"
   ]
  },
  {
   "cell_type": "code",
   "execution_count": 14,
   "id": "3ca342b1",
   "metadata": {},
   "outputs": [
    {
     "data": {
      "text/plain": [
       "[('user9,m1,5', 10),\n",
       " ('user8,m2,4', 10),\n",
       " ('user1,m1,2', 10),\n",
       " ('user1,9', 7),\n",
       " ('user1,m1,2', 10),\n",
       " ('user2,m2,3', 10),\n",
       " ('user2,m3,5', 10),\n",
       " ('user3,m3,4', 10),\n",
       " ('user6,m3,4', 10),\n",
       " ('user7,m3,3', 10),\n",
       " ('user3,king', 10),\n",
       " ('user4,m1,3', 10),\n",
       " ('user5,m2,5', 10),\n",
       " ('user6,m4,5', 10),\n",
       " ('user7,m5,5', 10),\n",
       " ('user1', 5),\n",
       " ('user3,m3,5', 10),\n",
       " ('user4,m4,1', 10)]"
      ]
     },
     "execution_count": 14,
     "metadata": {},
     "output_type": "execute_result"
    }
   ],
   "source": [
    "pairs.collect()"
   ]
  },
  {
   "cell_type": "code",
   "execution_count": 15,
   "id": "849a77c5",
   "metadata": {},
   "outputs": [],
   "source": [
    "strings = [\"A,2\", \"A,4\", \"A,6\", \"B,7\", \"B,13\"]\n",
    "rdd2 = spark.sparkContext.parallelize(strings)"
   ]
  },
  {
   "cell_type": "code",
   "execution_count": 17,
   "id": "da06263e",
   "metadata": {},
   "outputs": [
    {
     "data": {
      "text/plain": [
       "5"
      ]
     },
     "execution_count": 17,
     "metadata": {},
     "output_type": "execute_result"
    }
   ],
   "source": [
    "rdd2.count()"
   ]
  },
  {
   "cell_type": "code",
   "execution_count": 18,
   "id": "cc17b4c5",
   "metadata": {},
   "outputs": [],
   "source": [
    "def createKeyValue(record):\n",
    "    tokens = record.split(',')\n",
    "    key = str(tokens[0])\n",
    "    value = int(tokens[1])\n",
    "    return (key, value)"
   ]
  },
  {
   "cell_type": "code",
   "execution_count": 19,
   "id": "e295e91a",
   "metadata": {},
   "outputs": [],
   "source": [
    "keyValuePairs = rdd2.map(createKeyValue)"
   ]
  },
  {
   "cell_type": "code",
   "execution_count": 20,
   "id": "a67a41c2",
   "metadata": {},
   "outputs": [
    {
     "data": {
      "text/plain": [
       "[('A', 2), ('A', 4), ('A', 6), ('B', 7), ('B', 13)]"
      ]
     },
     "execution_count": 20,
     "metadata": {},
     "output_type": "execute_result"
    }
   ],
   "source": [
    "keyValuePairs.collect()"
   ]
  },
  {
   "cell_type": "code",
   "execution_count": 21,
   "id": "d6640bd7",
   "metadata": {},
   "outputs": [
    {
     "data": {
      "text/plain": [
       "[('A', <pyspark.resultiterable.ResultIterable at 0x7fee071d1520>),\n",
       " ('B', <pyspark.resultiterable.ResultIterable at 0x7fee071c53a0>)]"
      ]
     },
     "execution_count": 21,
     "metadata": {},
     "output_type": "execute_result"
    }
   ],
   "source": [
    "keyValuePairs.groupByKey().collect()"
   ]
  },
  {
   "cell_type": "code",
   "execution_count": 22,
   "id": "e02d1f99",
   "metadata": {},
   "outputs": [
    {
     "data": {
      "text/plain": [
       "[('A', 4.0), ('B', 10.0)]"
      ]
     },
     "execution_count": 22,
     "metadata": {},
     "output_type": "execute_result"
    }
   ],
   "source": [
    "keyValuePairs.groupByKey().mapValues(lambda X: sum(X)/len(X)).collect()"
   ]
  },
  {
   "cell_type": "code",
   "execution_count": 25,
   "id": "3b8644d5",
   "metadata": {},
   "outputs": [
    {
     "data": {
      "text/plain": [
       "[('A', 4.0), ('B', 10.0)]"
      ]
     },
     "execution_count": 25,
     "metadata": {},
     "output_type": "execute_result"
    }
   ],
   "source": [
    "keyValuePairs.groupByKey().map(lambda X: (X[0], sum(X[1])/len(X[1]))).collect()"
   ]
  },
  {
   "cell_type": "code",
   "execution_count": 26,
   "id": "3ece95f2",
   "metadata": {},
   "outputs": [
    {
     "data": {
      "text/plain": [
       "[('A', 12), ('B', 20)]"
      ]
     },
     "execution_count": 26,
     "metadata": {},
     "output_type": "execute_result"
    }
   ],
   "source": [
    "keyValuePairs.reduceByKey(lambda a, b: a + b).collect()"
   ]
  },
  {
   "cell_type": "code",
   "execution_count": 28,
   "id": "0f521ad7",
   "metadata": {},
   "outputs": [],
   "source": [
    "valueCountPairs = keyValuePairs.mapValues(lambda X: (X,1))"
   ]
  },
  {
   "cell_type": "code",
   "execution_count": 34,
   "id": "f28c5965",
   "metadata": {},
   "outputs": [],
   "source": [
    "final = valueCountPairs.reduceByKey(lambda x,y: (x[0]+y[0], x[1]+y[1]))"
   ]
  },
  {
   "cell_type": "code",
   "execution_count": 35,
   "id": "8de61f9e",
   "metadata": {},
   "outputs": [
    {
     "data": {
      "text/plain": [
       "[('A', (12, 3)), ('B', (20, 2))]"
      ]
     },
     "execution_count": 35,
     "metadata": {},
     "output_type": "execute_result"
    }
   ],
   "source": [
    "final.collect()"
   ]
  },
  {
   "cell_type": "code",
   "execution_count": 36,
   "id": "db065ee7",
   "metadata": {},
   "outputs": [
    {
     "data": {
      "text/plain": [
       "[('A', 4.0), ('B', 10.0)]"
      ]
     },
     "execution_count": 36,
     "metadata": {},
     "output_type": "execute_result"
    }
   ],
   "source": [
    "final.mapValues(lambda X: X[0]/X[1]).collect()"
   ]
  },
  {
   "cell_type": "code",
   "execution_count": 37,
   "id": "8158a909",
   "metadata": {},
   "outputs": [],
   "source": [
    "spark.stop()"
   ]
  },
  {
   "cell_type": "code",
   "execution_count": null,
   "id": "dffd5961",
   "metadata": {},
   "outputs": [],
   "source": []
  }
 ],
 "metadata": {
  "kernelspec": {
   "display_name": "Python 3 (ipykernel)",
   "language": "python",
   "name": "python3"
  },
  "language_info": {
   "codemirror_mode": {
    "name": "ipython",
    "version": 3
   },
   "file_extension": ".py",
   "mimetype": "text/x-python",
   "name": "python",
   "nbconvert_exporter": "python",
   "pygments_lexer": "ipython3",
   "version": "3.8.10"
  }
 },
 "nbformat": 4,
 "nbformat_minor": 5
}
