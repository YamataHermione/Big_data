{
 "cells": [
  {
   "cell_type": "code",
   "execution_count": 1,
   "metadata": {},
   "outputs": [],
   "source": [
    "from pyspark.sql import SparkSession"
   ]
  },
  {
   "cell_type": "code",
   "execution_count": 2,
   "metadata": {},
   "outputs": [
    {
     "name": "stderr",
     "output_type": "stream",
     "text": [
      "22/05/15 21:19:56 WARN Utils: Your hostname, ubuntu resolves to a loopback address: 127.0.1.1; using 192.168.108.128 instead (on interface ens33)\n",
      "22/05/15 21:19:56 WARN Utils: Set SPARK_LOCAL_IP if you need to bind to another address\n",
      "Using Spark's default log4j profile: org/apache/spark/log4j-defaults.properties\n",
      "Setting default log level to \"WARN\".\n",
      "To adjust logging level use sc.setLogLevel(newLevel). For SparkR, use setLogLevel(newLevel).\n",
      "22/05/15 21:19:57 WARN NativeCodeLoader: Unable to load native-hadoop library for your platform... using builtin-java classes where applicable\n"
     ]
    }
   ],
   "source": [
    "spark = SparkSession.builder.appName('SparkDataFrameDemo').getOrCreate()"
   ]
  },
  {
   "cell_type": "code",
   "execution_count": 6,
   "metadata": {},
   "outputs": [
    {
     "data": {
      "text/plain": [
       "[Row(Serial No.='1', GRE Score='337', TOEFL Score='118', University Rating='4', SOP='4.5', LOR ='4.5', CGPA='9.65', Research='1', Chance of Admit ='0.92'),\n",
       " Row(Serial No.='2', GRE Score='324', TOEFL Score='107', University Rating='4', SOP='4', LOR ='4.5', CGPA='8.87', Research='1', Chance of Admit ='0.76'),\n",
       " Row(Serial No.='3', GRE Score='316', TOEFL Score='104', University Rating='3', SOP='3', LOR ='3.5', CGPA='8', Research='1', Chance of Admit ='0.72'),\n",
       " Row(Serial No.='4', GRE Score='322', TOEFL Score='110', University Rating='3', SOP='3.5', LOR ='2.5', CGPA='8.67', Research='1', Chance of Admit ='0.8'),\n",
       " Row(Serial No.='5', GRE Score='314', TOEFL Score='103', University Rating='2', SOP='2', LOR ='3', CGPA='8.21', Research='0', Chance of Admit ='0.65')]"
      ]
     },
     "execution_count": 6,
     "metadata": {},
     "output_type": "execute_result"
    }
   ],
   "source": [
    "input_path = \"Admission_Predict.csv\"\n",
    "df = spark.read.option('header', True).csv(input_path)\n",
    "df.take(5)"
   ]
  },
  {
   "cell_type": "code",
   "execution_count": 7,
   "metadata": {},
   "outputs": [
    {
     "name": "stdout",
     "output_type": "stream",
     "text": [
      "root\n",
      " |-- Serial No.: string (nullable = true)\n",
      " |-- GRE Score: string (nullable = true)\n",
      " |-- TOEFL Score: string (nullable = true)\n",
      " |-- University Rating: string (nullable = true)\n",
      " |-- SOP: string (nullable = true)\n",
      " |-- LOR : string (nullable = true)\n",
      " |-- CGPA: string (nullable = true)\n",
      " |-- Research: string (nullable = true)\n",
      " |-- Chance of Admit : string (nullable = true)\n",
      "\n"
     ]
    }
   ],
   "source": [
    "df.printSchema()"
   ]
  },
  {
   "cell_type": "code",
   "execution_count": 8,
   "metadata": {},
   "outputs": [
    {
     "name": "stdout",
     "output_type": "stream",
     "text": [
      "+----------+---------+-----------+-----------------+---+----+----+--------+----------------+\n",
      "|Serial No.|GRE Score|TOEFL Score|University Rating|SOP|LOR |CGPA|Research|Chance of Admit |\n",
      "+----------+---------+-----------+-----------------+---+----+----+--------+----------------+\n",
      "|         1|      337|        118|                4|4.5| 4.5|9.65|       1|            0.92|\n",
      "|         2|      324|        107|                4|  4| 4.5|8.87|       1|            0.76|\n",
      "|         3|      316|        104|                3|  3| 3.5|   8|       1|            0.72|\n",
      "|         4|      322|        110|                3|3.5| 2.5|8.67|       1|             0.8|\n",
      "|         5|      314|        103|                2|  2|   3|8.21|       0|            0.65|\n",
      "|         6|      330|        115|                5|4.5|   3|9.34|       1|             0.9|\n",
      "|         7|      321|        109|                3|  3|   4| 8.2|       1|            0.75|\n",
      "|         8|      308|        101|                2|  3|   4| 7.9|       0|            0.68|\n",
      "|         9|      302|        102|                1|  2| 1.5|   8|       0|             0.5|\n",
      "|        10|      323|        108|                3|3.5|   3| 8.6|       0|            0.45|\n",
      "|        11|      325|        106|                3|3.5|   4| 8.4|       1|            0.52|\n",
      "|        12|      327|        111|                4|  4| 4.5|   9|       1|            0.84|\n",
      "|        13|      328|        112|                4|  4| 4.5| 9.1|       1|            0.78|\n",
      "|        14|      307|        109|                3|  4|   3|   8|       1|            0.62|\n",
      "|        15|      311|        104|                3|3.5|   2| 8.2|       1|            0.61|\n",
      "|        16|      314|        105|                3|3.5| 2.5| 8.3|       0|            0.54|\n",
      "|        17|      317|        107|                3|  4|   3| 8.7|       0|            0.66|\n",
      "|        18|      319|        106|                3|  4|   3|   8|       1|            0.65|\n",
      "|        19|      318|        110|                3|  4|   3| 8.8|       0|            0.63|\n",
      "|        20|      303|        102|                3|3.5|   3| 8.5|       0|            0.62|\n",
      "+----------+---------+-----------+-----------------+---+----+----+--------+----------------+\n",
      "only showing top 20 rows\n",
      "\n"
     ]
    }
   ],
   "source": [
    "df.show()"
   ]
  },
  {
   "cell_type": "code",
   "execution_count": 9,
   "metadata": {},
   "outputs": [],
   "source": [
    "df.createOrReplaceTempView(\"Graduate\")"
   ]
  },
  {
   "cell_type": "code",
   "execution_count": 10,
   "metadata": {},
   "outputs": [
    {
     "name": "stdout",
     "output_type": "stream",
     "text": [
      "+----------+---------+-----------+-----------------+---+----+----+--------+----------------+\n",
      "|Serial No.|GRE Score|TOEFL Score|University Rating|SOP|LOR |CGPA|Research|Chance of Admit |\n",
      "+----------+---------+-----------+-----------------+---+----+----+--------+----------------+\n",
      "|         1|      337|        118|                4|4.5| 4.5|9.65|       1|            0.92|\n",
      "|         2|      324|        107|                4|  4| 4.5|8.87|       1|            0.76|\n",
      "|         3|      316|        104|                3|  3| 3.5|   8|       1|            0.72|\n",
      "|         4|      322|        110|                3|3.5| 2.5|8.67|       1|             0.8|\n",
      "|         6|      330|        115|                5|4.5|   3|9.34|       1|             0.9|\n",
      "|         7|      321|        109|                3|  3|   4| 8.2|       1|            0.75|\n",
      "|        11|      325|        106|                3|3.5|   4| 8.4|       1|            0.52|\n",
      "|        12|      327|        111|                4|  4| 4.5|   9|       1|            0.84|\n",
      "|        13|      328|        112|                4|  4| 4.5| 9.1|       1|            0.78|\n",
      "|        14|      307|        109|                3|  4|   3|   8|       1|            0.62|\n",
      "|        15|      311|        104|                3|3.5|   2| 8.2|       1|            0.61|\n",
      "|        18|      319|        106|                3|  4|   3|   8|       1|            0.65|\n",
      "|        21|      312|        107|                3|  3|   2| 7.9|       1|            0.64|\n",
      "|        23|      328|        116|                5|  5|   5| 9.5|       1|            0.94|\n",
      "|        24|      334|        119|                5|  5| 4.5| 9.7|       1|            0.95|\n",
      "|        25|      336|        119|                5|  4| 3.5| 9.8|       1|            0.97|\n",
      "|        26|      340|        120|                5|4.5| 4.5| 9.6|       1|            0.94|\n",
      "|        28|      298|         98|                2|1.5| 2.5| 7.5|       1|            0.44|\n",
      "|        31|      300|         97|                2|  3|   3| 8.1|       1|            0.65|\n",
      "|        32|      327|        103|                3|  4|   4| 8.3|       1|            0.74|\n",
      "+----------+---------+-----------+-----------------+---+----+----+--------+----------------+\n",
      "only showing top 20 rows\n",
      "\n"
     ]
    }
   ],
   "source": [
    "df2 = spark.sql(\"SELECT * FROM Graduate WHERE Research=1\")\n",
    "df2.show()"
   ]
  },
  {
   "cell_type": "code",
   "execution_count": 11,
   "metadata": {},
   "outputs": [],
   "source": [
    "# we can drop the temprory view\n",
    "spark.catalog.dropTempView(\"Graduate\")"
   ]
  },
  {
   "cell_type": "code",
   "execution_count": 12,
   "metadata": {},
   "outputs": [],
   "source": [
    "from pyspark.sql.functions import exp, lit \n",
    "df_with_nc1 = df.withColumn(\"n1\", lit(0))\n",
    "df_with_nc2 = df_with_nc1.withColumn(\"n2\", exp(\"CGPA\"))"
   ]
  },
  {
   "cell_type": "code",
   "execution_count": 13,
   "metadata": {},
   "outputs": [
    {
     "name": "stdout",
     "output_type": "stream",
     "text": [
      "+----------+---------+-----------+-----------------+---+----+----+--------+----------------+---+\n",
      "|Serial No.|GRE Score|TOEFL Score|University Rating|SOP|LOR |CGPA|Research|Chance of Admit | n1|\n",
      "+----------+---------+-----------+-----------------+---+----+----+--------+----------------+---+\n",
      "|         1|      337|        118|                4|4.5| 4.5|9.65|       1|            0.92|  0|\n",
      "|         2|      324|        107|                4|  4| 4.5|8.87|       1|            0.76|  0|\n",
      "|         3|      316|        104|                3|  3| 3.5|   8|       1|            0.72|  0|\n",
      "|         4|      322|        110|                3|3.5| 2.5|8.67|       1|             0.8|  0|\n",
      "|         5|      314|        103|                2|  2|   3|8.21|       0|            0.65|  0|\n",
      "|         6|      330|        115|                5|4.5|   3|9.34|       1|             0.9|  0|\n",
      "|         7|      321|        109|                3|  3|   4| 8.2|       1|            0.75|  0|\n",
      "|         8|      308|        101|                2|  3|   4| 7.9|       0|            0.68|  0|\n",
      "|         9|      302|        102|                1|  2| 1.5|   8|       0|             0.5|  0|\n",
      "|        10|      323|        108|                3|3.5|   3| 8.6|       0|            0.45|  0|\n",
      "|        11|      325|        106|                3|3.5|   4| 8.4|       1|            0.52|  0|\n",
      "|        12|      327|        111|                4|  4| 4.5|   9|       1|            0.84|  0|\n",
      "|        13|      328|        112|                4|  4| 4.5| 9.1|       1|            0.78|  0|\n",
      "|        14|      307|        109|                3|  4|   3|   8|       1|            0.62|  0|\n",
      "|        15|      311|        104|                3|3.5|   2| 8.2|       1|            0.61|  0|\n",
      "|        16|      314|        105|                3|3.5| 2.5| 8.3|       0|            0.54|  0|\n",
      "|        17|      317|        107|                3|  4|   3| 8.7|       0|            0.66|  0|\n",
      "|        18|      319|        106|                3|  4|   3|   8|       1|            0.65|  0|\n",
      "|        19|      318|        110|                3|  4|   3| 8.8|       0|            0.63|  0|\n",
      "|        20|      303|        102|                3|3.5|   3| 8.5|       0|            0.62|  0|\n",
      "+----------+---------+-----------+-----------------+---+----+----+--------+----------------+---+\n",
      "only showing top 20 rows\n",
      "\n"
     ]
    }
   ],
   "source": [
    "df_with_nc1.show()"
   ]
  },
  {
   "cell_type": "code",
   "execution_count": 14,
   "metadata": {},
   "outputs": [
    {
     "name": "stdout",
     "output_type": "stream",
     "text": [
      "+----------+---------+-----------+-----------------+---+----+----+--------+----------------+---+------------------+\n",
      "|Serial No.|GRE Score|TOEFL Score|University Rating|SOP|LOR |CGPA|Research|Chance of Admit | n1|                n2|\n",
      "+----------+---------+-----------+-----------------+---+----+----+--------+----------------+---+------------------+\n",
      "|         1|      337|        118|                4|4.5| 4.5|9.65|       1|            0.92|  0|15521.788104196934|\n",
      "|         2|      324|        107|                4|  4| 4.5|8.87|       1|            0.76|  0| 7115.280973169776|\n",
      "|         3|      316|        104|                3|  3| 3.5|   8|       1|            0.72|  0|2980.9579870417283|\n",
      "|         4|      322|        110|                3|3.5| 2.5|8.67|       1|             0.8|  0| 5825.499349524731|\n",
      "|         5|      314|        103|                2|  2|   3|8.21|       0|            0.65|  0|3677.5424662662012|\n",
      "|         6|      330|        115|                5|4.5|   3|9.34|       1|             0.9|  0|11384.408240181616|\n",
      "|         7|      321|        109|                3|  3|   4| 8.2|       1|            0.75|  0| 3640.950307332352|\n",
      "|         8|      308|        101|                2|  3|   4| 7.9|       0|            0.68|  0|  2697.28232826851|\n",
      "|         9|      302|        102|                1|  2| 1.5|   8|       0|             0.5|  0|2980.9579870417283|\n",
      "|        10|      323|        108|                3|3.5|   3| 8.6|       0|            0.45|  0| 5431.659591362979|\n",
      "|        11|      325|        106|                3|3.5|   4| 8.4|       1|            0.52|  0| 4447.066747699858|\n",
      "|        12|      327|        111|                4|  4| 4.5|   9|       1|            0.84|  0| 8103.083927575384|\n",
      "|        13|      328|        112|                4|  4| 4.5| 9.1|       1|            0.78|  0| 8955.292703482508|\n",
      "|        14|      307|        109|                3|  4|   3|   8|       1|            0.62|  0|2980.9579870417283|\n",
      "|        15|      311|        104|                3|3.5|   2| 8.2|       1|            0.61|  0| 3640.950307332352|\n",
      "|        16|      314|        105|                3|3.5| 2.5| 8.3|       0|            0.54|  0| 4023.872393822313|\n",
      "|        17|      317|        107|                3|  4|   3| 8.7|       0|            0.66|  0| 6002.912217261018|\n",
      "|        18|      319|        106|                3|  4|   3|   8|       1|            0.65|  0|2980.9579870417283|\n",
      "|        19|      318|        110|                3|  4|   3| 8.8|       0|            0.63|  0|  6634.24400627789|\n",
      "|        20|      303|        102|                3|3.5|   3| 8.5|       0|            0.62|  0| 4914.768840299134|\n",
      "+----------+---------+-----------+-----------------+---+----+----+--------+----------------+---+------------------+\n",
      "only showing top 20 rows\n",
      "\n"
     ]
    }
   ],
   "source": [
    "df_with_nc2.show()"
   ]
  },
  {
   "cell_type": "code",
   "execution_count": 15,
   "metadata": {},
   "outputs": [],
   "source": [
    "#spark.stop()"
   ]
  },
  {
   "cell_type": "code",
   "execution_count": null,
   "metadata": {},
   "outputs": [],
   "source": []
  }
 ],
 "metadata": {
  "interpreter": {
   "hash": "916dbcbb3f70747c44a77c7bcd40155683ae19c65e1c03b4aa3499c5328201f1"
  },
  "kernelspec": {
   "display_name": "Python 3.8.10 64-bit",
   "language": "python",
   "name": "python3"
  },
  "language_info": {
   "codemirror_mode": {
    "name": "ipython",
    "version": 3
   },
   "file_extension": ".py",
   "mimetype": "text/x-python",
   "name": "python",
   "nbconvert_exporter": "python",
   "pygments_lexer": "ipython3",
   "version": "3.8.10"
  },
  "orig_nbformat": 4
 },
 "nbformat": 4,
 "nbformat_minor": 2
}
