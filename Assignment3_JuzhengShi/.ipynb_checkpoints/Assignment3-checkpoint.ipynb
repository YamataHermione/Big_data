{
 "cells": [
  {
   "cell_type": "code",
   "execution_count": 53,
   "metadata": {},
   "outputs": [
    {
     "data": {
      "text/html": [
       "\n",
       "            <div>\n",
       "                <p><b>SparkSession - in-memory</b></p>\n",
       "                \n",
       "        <div>\n",
       "            <p><b>SparkContext</b></p>\n",
       "\n",
       "            <p><a href=\"http://192.168.108.128:4040\">Spark UI</a></p>\n",
       "\n",
       "            <dl>\n",
       "              <dt>Version</dt>\n",
       "                <dd><code>v3.2.1</code></dd>\n",
       "              <dt>Master</dt>\n",
       "                <dd><code>local[*]</code></dd>\n",
       "              <dt>AppName</dt>\n",
       "                <dd><code>Assignment3</code></dd>\n",
       "            </dl>\n",
       "        </div>\n",
       "        \n",
       "            </div>\n",
       "        "
      ],
      "text/plain": [
       "<pyspark.sql.session.SparkSession at 0x7feddca53280>"
      ]
     },
     "execution_count": 53,
     "metadata": {},
     "output_type": "execute_result"
    }
   ],
   "source": [
    "from pyspark.sql import SparkSession\n",
    "\n",
    "spark = SparkSession.builder.appName(\"Assignment3\").getOrCreate()\n",
    "sc = spark.sparkContext\n",
    "spark"
   ]
  },
  {
   "cell_type": "code",
   "execution_count": 54,
   "metadata": {},
   "outputs": [],
   "source": [
    "with open('data/exclude.txt') as file_ecl:\n",
    "    list_exclude = file_ecl.readlines()    "
   ]
  },
  {
   "cell_type": "code",
   "execution_count": 55,
   "metadata": {},
   "outputs": [
    {
     "data": {
      "text/plain": [
       "['gene21', 'gene33', 'gene44', 'gene88', 'gene77']"
      ]
     },
     "execution_count": 55,
     "metadata": {},
     "output_type": "execute_result"
    }
   ],
   "source": [
    "list_exclude = [gene.replace('\\n', '') for gene in list_exclude]\n",
    "list_exclude"
   ]
  },
  {
   "cell_type": "code",
   "execution_count": 56,
   "metadata": {},
   "outputs": [
    {
     "name": "stdout",
     "output_type": "stream",
     "text": [
      "110\n",
      "['gene01,3.0', 'gene03,5.0,1.0,2.0,4.0,3.0,1.0', 'gene01,3.0,6.0', 'gene03,1.0,2.0,4.0,4.0,3.0,1.0,0.0', 'gene21,2.4,1.2,2.0', 'gene33,1.0,1.0,2.0,3.0', 'gene09,2.0,2.0,3.0,4.0,4.0,4.0', 'gene44,1.0,1.0,2.0,3.0', 'gene55,3.0', 'gene44,5.0,1.0,2.0,4.0,3.0,1.0', 'gene44,3.0,6.0', 'gene21,3.4,1.2,2.0,5.0,3.5,2.0,1.0', 'gene22,3.0', 'gene79,2.0,4.0,3.0,1.0', 'gene01,3.0,3.0,3.0,4.0,5.0,5.0,5.0', 'gene03,5.0,1.0,2.0,4.0,3.0,1.0', 'gene01,3.0,6.0', 'gene03,1.0,2.0,4.0,4.0,3.0,1.0,0.0', 'gene21,2.4,1.2,2.0', 'gene33,1.0,1.0,2.0,3.0']\n"
     ]
    }
   ],
   "source": [
    "rdd = sc.textFile('data/genes.txt')\n",
    "print(rdd.count())\n",
    "print(rdd.take(20))"
   ]
  },
  {
   "cell_type": "code",
   "execution_count": 57,
   "metadata": {},
   "outputs": [
    {
     "data": {
      "text/plain": [
       "[('GENE01', (1, 3.0, 3.0)),\n",
       " ('GENE03', (6, 1.0, 5.0)),\n",
       " ('GENE01', (2, 3.0, 6.0)),\n",
       " ('GENE03', (7, 0.0, 4.0)),\n",
       " None,\n",
       " None,\n",
       " ('GENE09', (6, 2.0, 4.0)),\n",
       " None,\n",
       " ('GENE55', (1, 3.0, 3.0)),\n",
       " None]"
      ]
     },
     "execution_count": 57,
     "metadata": {},
     "output_type": "execute_result"
    }
   ],
   "source": [
    "\n",
    "def splitAndFilter(record):\n",
    "    tokens = record.split(',')\n",
    "    #filter records with number of tokens less than two\n",
    "    #drop records due to the exclude\n",
    "    if((len(tokens)>=2) and (tokens[0] not in list_exclude)):\n",
    "        #convert numbers from string to float\n",
    "        tokens = [float(tokens[i]) if i!=0 else tokens[i] for i in range(len(tokens))]\n",
    "        #convert gene_id into uppercase, find count, minimum, maximum in a singlerecord\n",
    "        #format for returned object is ('GENEXX', (count, min, max))\n",
    "        return (tokens[0].upper(), (len(tokens[1:]), min(tokens[1:]), max(tokens[1:])))\n",
    "\n",
    "rdd.map(splitAndFilter).take(10)"
   ]
  },
  {
   "cell_type": "code",
   "execution_count": 58,
   "metadata": {},
   "outputs": [
    {
     "name": "stdout",
     "output_type": "stream",
     "text": [
      "length of result rdd is: 9\n",
      "result:\n",
      " [('GENE03', 160, 0.0, 8.0), ('GENE55', 12, 0.0, 4.0), ('GENE22', 3, 3.0, 3.0), ('GENE79', 16, 1.0, 4.0), ('GENE99', 9, 1.0, 3.0), ('GENE01', 42, 3.0, 6.0), ('GENE09', 11, 1.0, 5.0), ('GENE89', 16, 2.0, 4.0), ('GENE02', 1, 3.0, 3.0)]\n"
     ]
    }
   ],
   "source": [
    "def find_count_min_max(a, b):\n",
    "    #function for reduce by key\n",
    "    #sum of count, minimum, maximum\n",
    "    return ((a[0] + b[0]),\n",
    "    min(a[1], b[1]),\n",
    "    max(a[2], b[2])\n",
    "    )\n",
    "\n",
    "#using splitAndFilter will return None if record does not satisfy the requirements\n",
    "#so we need to drop Nones\n",
    "#last map is used to adjust the format of output\n",
    "\n",
    "res = rdd.map(splitAndFilter).filter(lambda x: x is not None).reduceByKey(find_count_min_max).map(lambda x: (x[0], x[1][0], x[1][1], x[1][2]))\n",
    "print(\"length of result rdd is:\", res.count())\n",
    "print(\"result:\\n\", res.collect())"
   ]
  },
  {
   "cell_type": "code",
   "execution_count": 59,
   "metadata": {},
   "outputs": [],
   "source": [
    "spark.stop()"
   ]
  },
  {
   "cell_type": "code",
   "execution_count": null,
   "metadata": {},
   "outputs": [],
   "source": []
  },
  {
   "cell_type": "code",
   "execution_count": null,
   "metadata": {},
   "outputs": [],
   "source": []
  }
 ],
 "metadata": {
  "interpreter": {
   "hash": "916dbcbb3f70747c44a77c7bcd40155683ae19c65e1c03b4aa3499c5328201f1"
  },
  "kernelspec": {
   "display_name": "Python 3.8.10 64-bit",
   "language": "python",
   "name": "python3"
  },
  "language_info": {
   "codemirror_mode": {
    "name": "ipython",
    "version": 3
   },
   "file_extension": ".py",
   "mimetype": "text/x-python",
   "name": "python",
   "nbconvert_exporter": "python",
   "pygments_lexer": "ipython3",
   "version": "3.8.10"
  },
  "orig_nbformat": 4
 },
 "nbformat": 4,
 "nbformat_minor": 2
}
