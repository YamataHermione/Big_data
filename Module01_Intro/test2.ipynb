{
 "cells": [
  {
   "cell_type": "code",
   "execution_count": 46,
   "id": "ba91def1",
   "metadata": {},
   "outputs": [
    {
     "name": "stdout",
     "output_type": "stream",
     "text": [
      "Collecting numpy\n",
      "  Downloading numpy-1.22.3-cp38-cp38-manylinux_2_17_x86_64.manylinux2014_x86_64.whl (16.8 MB)\n",
      "\u001b[K     |████████████████████████████████| 16.8 MB 3.2 MB/s eta 0:00:01     |███████████████████████████████▏| 16.4 MB 3.2 MB/s eta 0:00:01\n",
      "\u001b[?25hInstalling collected packages: numpy\n",
      "Successfully installed numpy-1.22.3\n"
     ]
    }
   ],
   "source": [
    "!pip install numpy"
   ]
  },
  {
   "cell_type": "code",
   "execution_count": 17,
   "id": "3b587cd9",
   "metadata": {},
   "outputs": [],
   "source": [
    "from pyspark.sql import SparkSession"
   ]
  },
  {
   "cell_type": "code",
   "execution_count": 47,
   "id": "b78f5390",
   "metadata": {},
   "outputs": [],
   "source": [
    "import numpy as np"
   ]
  },
  {
   "cell_type": "code",
   "execution_count": 18,
   "id": "961c10c0",
   "metadata": {},
   "outputs": [],
   "source": [
    "spark = SparkSession.builder.appName(\"test2\").getOrCreate()"
   ]
  },
  {
   "cell_type": "code",
   "execution_count": 19,
   "id": "4e675dfd",
   "metadata": {},
   "outputs": [
    {
     "data": {
      "text/html": [
       "\n",
       "            <div>\n",
       "                <p><b>SparkSession - in-memory</b></p>\n",
       "                \n",
       "        <div>\n",
       "            <p><b>SparkContext</b></p>\n",
       "\n",
       "            <p><a href=\"http://192.168.108.128:4040\">Spark UI</a></p>\n",
       "\n",
       "            <dl>\n",
       "              <dt>Version</dt>\n",
       "                <dd><code>v3.2.1</code></dd>\n",
       "              <dt>Master</dt>\n",
       "                <dd><code>local[*]</code></dd>\n",
       "              <dt>AppName</dt>\n",
       "                <dd><code>test2</code></dd>\n",
       "            </dl>\n",
       "        </div>\n",
       "        \n",
       "            </div>\n",
       "        "
      ],
      "text/plain": [
       "<pyspark.sql.session.SparkSession at 0x7f2d3c6d06a0>"
      ]
     },
     "execution_count": 19,
     "metadata": {},
     "output_type": "execute_result"
    }
   ],
   "source": [
    "spark"
   ]
  },
  {
   "cell_type": "code",
   "execution_count": 20,
   "id": "667a4575",
   "metadata": {},
   "outputs": [],
   "source": [
    "rdd = spark.sparkContext.textFile(\"Assignment2/input.txt\")"
   ]
  },
  {
   "cell_type": "code",
   "execution_count": 21,
   "id": "9a998180",
   "metadata": {},
   "outputs": [
    {
     "data": {
      "text/plain": [
       "['user9,m1,5',\n",
       " 'user8,m2,4',\n",
       " 'user1,m1,2',\n",
       " 'user1,9',\n",
       " 'user1,m1,2',\n",
       " 'user2,m2,3',\n",
       " 'user2,m3,5',\n",
       " 'user3,m3,4',\n",
       " 'user6,m3,4',\n",
       " 'user7,m3,3',\n",
       " 'user3,king',\n",
       " 'user4,m1,3',\n",
       " 'user5,m2,5',\n",
       " 'user6,m4,5',\n",
       " 'user7,m5,5',\n",
       " 'user1',\n",
       " 'user3,m3,5',\n",
       " 'user4,m4,1']"
      ]
     },
     "execution_count": 21,
     "metadata": {},
     "output_type": "execute_result"
    }
   ],
   "source": [
    "rdd.collect()"
   ]
  },
  {
   "cell_type": "code",
   "execution_count": 23,
   "id": "5ece1d00",
   "metadata": {},
   "outputs": [],
   "source": [
    "def isComplete(record):\n",
    "    if(len(record.split(',')) == 3):\n",
    "       return record"
   ]
  },
  {
   "cell_type": "code",
   "execution_count": 24,
   "id": "9481f197",
   "metadata": {},
   "outputs": [],
   "source": [
    "#collect complete records\n",
    "records_complete = rdd.filter(isComplete)"
   ]
  },
  {
   "cell_type": "code",
   "execution_count": 25,
   "id": "0f58012c",
   "metadata": {},
   "outputs": [
    {
     "data": {
      "text/plain": [
       "['user9,m1,5',\n",
       " 'user8,m2,4',\n",
       " 'user1,m1,2',\n",
       " 'user1,m1,2',\n",
       " 'user2,m2,3',\n",
       " 'user2,m3,5',\n",
       " 'user3,m3,4',\n",
       " 'user6,m3,4',\n",
       " 'user7,m3,3',\n",
       " 'user4,m1,3',\n",
       " 'user5,m2,5',\n",
       " 'user6,m4,5',\n",
       " 'user7,m5,5',\n",
       " 'user3,m3,5',\n",
       " 'user4,m4,1']"
      ]
     },
     "execution_count": 25,
     "metadata": {},
     "output_type": "execute_result"
    }
   ],
   "source": [
    "records_complete.collect()"
   ]
  },
  {
   "cell_type": "code",
   "execution_count": 36,
   "id": "e6705fe9",
   "metadata": {},
   "outputs": [],
   "source": [
    "#mapper\n",
    "def mapper(record):\n",
    "    tokens = record.split(',')\n",
    "    key = tokens[1]\n",
    "    value = int(tokens[2])\n",
    "    return (key, value)"
   ]
  },
  {
   "cell_type": "code",
   "execution_count": 37,
   "id": "72561646",
   "metadata": {},
   "outputs": [
    {
     "data": {
      "text/plain": [
       "('m1', 5)"
      ]
     },
     "execution_count": 37,
     "metadata": {},
     "output_type": "execute_result"
    }
   ],
   "source": [
    "a = mapper('user9,m1,5')\n",
    "a"
   ]
  },
  {
   "cell_type": "code",
   "execution_count": 40,
   "id": "85cff844",
   "metadata": {},
   "outputs": [],
   "source": [
    "pairs = records_complete.map(mapper)"
   ]
  },
  {
   "cell_type": "code",
   "execution_count": 41,
   "id": "f2068dbf",
   "metadata": {},
   "outputs": [
    {
     "data": {
      "text/plain": [
       "[('m1', 5),\n",
       " ('m2', 4),\n",
       " ('m1', 2),\n",
       " ('m1', 2),\n",
       " ('m2', 3),\n",
       " ('m3', 5),\n",
       " ('m3', 4),\n",
       " ('m3', 4),\n",
       " ('m3', 3),\n",
       " ('m1', 3),\n",
       " ('m2', 5),\n",
       " ('m4', 5),\n",
       " ('m5', 5),\n",
       " ('m3', 5),\n",
       " ('m4', 1)]"
      ]
     },
     "execution_count": 41,
     "metadata": {},
     "output_type": "execute_result"
    }
   ],
   "source": [
    "pairs.collect()"
   ]
  },
  {
   "cell_type": "code",
   "execution_count": 49,
   "id": "6db9e09c",
   "metadata": {},
   "outputs": [],
   "source": [
    "import math"
   ]
  },
  {
   "cell_type": "code",
   "execution_count": 51,
   "id": "83fea55f",
   "metadata": {},
   "outputs": [],
   "source": [
    "def mean(grouped_rec):\n",
    "    return sum(grouped_rec)/len(grouped_rec)"
   ]
  },
  {
   "cell_type": "code",
   "execution_count": 52,
   "id": "6037a44c",
   "metadata": {},
   "outputs": [
    {
     "data": {
      "text/plain": [
       "[('m3', 4.2), ('m4', 3.0), ('m5', 5.0), ('m1', 3.0), ('m2', 4.0)]"
      ]
     },
     "execution_count": 52,
     "metadata": {},
     "output_type": "execute_result"
    }
   ],
   "source": [
    "pairs.groupByKey().mapValues(lambda values : mean(values)).collect()"
   ]
  },
  {
   "cell_type": "code",
   "execution_count": 54,
   "id": "b024bf7f",
   "metadata": {},
   "outputs": [
    {
     "data": {
      "text/plain": [
       "[('m3', 21), ('m4', 6), ('m5', 5), ('m1', 12), ('m2', 12)]"
      ]
     },
     "execution_count": 54,
     "metadata": {},
     "output_type": "execute_result"
    }
   ],
   "source": [
    "pairs.reduceByKey(lambda a,b: a+b).collect()"
   ]
  },
  {
   "cell_type": "code",
   "execution_count": 55,
   "id": "9b334046",
   "metadata": {},
   "outputs": [],
   "source": [
    "spark.stop()"
   ]
  },
  {
   "cell_type": "code",
   "execution_count": null,
   "id": "61b51f62",
   "metadata": {},
   "outputs": [],
   "source": []
  }
 ],
 "metadata": {
  "kernelspec": {
   "display_name": "Python 3 (ipykernel)",
   "language": "python",
   "name": "python3"
  },
  "language_info": {
   "codemirror_mode": {
    "name": "ipython",
    "version": 3
   },
   "file_extension": ".py",
   "mimetype": "text/x-python",
   "name": "python",
   "nbconvert_exporter": "python",
   "pygments_lexer": "ipython3",
   "version": "3.8.10"
  }
 },
 "nbformat": 4,
 "nbformat_minor": 5
}
