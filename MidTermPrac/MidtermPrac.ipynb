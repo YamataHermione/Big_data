{
 "cells": [
  {
   "cell_type": "code",
   "execution_count": 1,
   "metadata": {},
   "outputs": [
    {
     "name": "stderr",
     "output_type": "stream",
     "text": [
      "22/05/05 21:04:24 WARN Utils: Your hostname, ubuntu resolves to a loopback address: 127.0.1.1; using 192.168.108.128 instead (on interface ens33)\n",
      "22/05/05 21:04:24 WARN Utils: Set SPARK_LOCAL_IP if you need to bind to another address\n",
      "Using Spark's default log4j profile: org/apache/spark/log4j-defaults.properties\n",
      "Setting default log level to \"WARN\".\n",
      "To adjust logging level use sc.setLogLevel(newLevel). For SparkR, use setLogLevel(newLevel).\n",
      "22/05/05 21:04:25 WARN NativeCodeLoader: Unable to load native-hadoop library for your platform... using builtin-java classes where applicable\n"
     ]
    }
   ],
   "source": [
    "from pyspark.sql import SparkSession\n",
    "\n",
    "spark = SparkSession.builder.appName(\"mid\").getOrCreate()\n",
    "sc = spark.sparkContext"
   ]
  },
  {
   "cell_type": "code",
   "execution_count": 2,
   "metadata": {},
   "outputs": [],
   "source": [
    "import random"
   ]
  },
  {
   "cell_type": "markdown",
   "metadata": {},
   "source": [
    "### 1"
   ]
  },
  {
   "cell_type": "code",
   "execution_count": 6,
   "metadata": {},
   "outputs": [
    {
     "data": {
      "text/plain": [
       "(2, 1)"
      ]
     },
     "execution_count": 6,
     "metadata": {},
     "output_type": "execute_result"
    }
   ],
   "source": [
    "p = min_max_sum_count_map(2)\n",
    "p"
   ]
  },
  {
   "cell_type": "code",
   "execution_count": 12,
   "metadata": {},
   "outputs": [
    {
     "data": {
      "text/plain": [
       "(3, 2, 5, 2)"
      ]
     },
     "execution_count": 12,
     "metadata": {},
     "output_type": "execute_result"
    }
   ],
   "source": [
    "r = reducer(pair1=(2,1), pair2=(3, 1))\n",
    "r"
   ]
  },
  {
   "cell_type": "code",
   "execution_count": 23,
   "metadata": {},
   "outputs": [
    {
     "data": {
      "text/plain": [
       "(994, 3, 47260, 100)"
      ]
     },
     "execution_count": 23,
     "metadata": {},
     "output_type": "execute_result"
    }
   ],
   "source": [
    "def max_min_sum_count(partition):\n",
    "    is_first = True\n",
    "    sum_ = 0\n",
    "    count = 0\n",
    "    for element in partition:\n",
    "        if(is_first==True):\n",
    "            max_ = element\n",
    "            min_ = element\n",
    "            is_first = False\n",
    "        else:\n",
    "            max_ = max(element, max_)\n",
    "            min_ = min(element, min)\n",
    "        sum_ += element\n",
    "        count += 1\n",
    "    return [(max_, min_, sum_, count)]\n",
    "\n",
    "def min_max_sum_count_map(number):\n",
    "    return (number, number, number, 1)\n",
    "\n",
    "def reducer(pair1, pair2):\n",
    "    return (\n",
    "    max(pair1[0], pair2[0]), \n",
    "    min(pair1[0], pair2[0]), \n",
    "    (pair1[0] + pair2[0]), \n",
    "    (pair1[1] + pair2[1])\n",
    "    )\n",
    "\n",
    "l = [random.randint(1, 1000) for i in range(100)]\n",
    "rdd1 = sc.parallelize(l)\n",
    "final = rdd1.map(min_max_sum_count_map).reduce(lambda a,b: (max(a[0], b[0]), min(a[1],b[1]), (a[2]+b[2]), (a[3] + b[3])))\n",
    "final\n",
    "#final = rdd.mapPartitions(max_min_sum_count).reduce(lambda a, b: (max(a[0], b[0]), min(a[1], b[1]), sum(a[2], b[2]), sum(a[3], b[3])))\n",
    "#print(\"max:\" final[0])\n",
    "#print(\"min:\" final[1])\n",
    "#print(\"min:\" final[2]/final[3])"
   ]
  },
  {
   "cell_type": "markdown",
   "metadata": {},
   "source": [
    "### 2"
   ]
  },
  {
   "cell_type": "code",
   "execution_count": 3,
   "metadata": {},
   "outputs": [],
   "source": [
    "def zpn(partition):\n",
    "    z, p, n = 0, 0, 0\n",
    "    for element in partition:\n",
    "        if(element>0):\n",
    "            p+=1\n",
    "        elif(element <0):\n",
    "            n+=1\n",
    "        else:\n",
    "            z+=1\n",
    "    return [(z,p,n)]\n",
    "    "
   ]
  },
  {
   "cell_type": "markdown",
   "metadata": {},
   "source": [
    "### 3 ?"
   ]
  },
  {
   "cell_type": "code",
   "execution_count": 5,
   "metadata": {},
   "outputs": [
    {
     "data": {
      "text/plain": [
       "'\\ndef map(key, value):\\n    emit(key, (value, 1))\\n\\ndef reduce(key, value): key->key (value, 1) -> value\\n    emit(sum(value[0] / sum(value[1])))\\n'"
      ]
     },
     "execution_count": 5,
     "metadata": {},
     "output_type": "execute_result"
    }
   ],
   "source": [
    "'''\n",
    "def map(key, value):\n",
    "    emit(key, (value, 1))\n",
    "\n",
    "def reduce(key, value): key->key (value, 1) -> value\n",
    "    emit(sum(value[0] / sum(value[1])))\n",
    "'''"
   ]
  },
  {
   "cell_type": "markdown",
   "metadata": {},
   "source": [
    "### 4"
   ]
  },
  {
   "cell_type": "code",
   "execution_count": null,
   "metadata": {},
   "outputs": [],
   "source": [
    "'''\n",
    "distinct()\n",
    "\n",
    "union()\n",
    "'''"
   ]
  },
  {
   "cell_type": "markdown",
   "metadata": {},
   "source": [
    "### 5"
   ]
  },
  {
   "cell_type": "code",
   "execution_count": null,
   "metadata": {},
   "outputs": [],
   "source": [
    "'''\n",
    "\n",
    "'''"
   ]
  },
  {
   "cell_type": "markdown",
   "metadata": {},
   "source": [
    "### 6"
   ]
  },
  {
   "cell_type": "code",
   "execution_count": null,
   "metadata": {},
   "outputs": [],
   "source": [
    "'''\n",
    "joined frame:\n",
    "\n",
    "b1, c1, NaN\n",
    "b1, c2, NaN\n",
    "b2, a2, NaN\n",
    "b7, c1, a1\n",
    "b7, c2, a2\n",
    "\n",
    "\n",
    "def map(record):\n",
    "    rec = record.split(',')\n",
    "    key = rec[1]\n",
    "    value = rec[2]\n",
    "    emit(key, value)\n",
    "\n",
    "def reduce(key: 'b', values: 'a' or 'c'):\n",
    "    \n",
    "\n",
    "\n",
    "'''"
   ]
  },
  {
   "cell_type": "markdown",
   "metadata": {},
   "source": [
    "### 8"
   ]
  },
  {
   "cell_type": "code",
   "execution_count": 4,
   "metadata": {},
   "outputs": [],
   "source": [
    "id_Grades = []\n",
    "import random\n",
    "for i in range(100):\n",
    "    id_Grades.append(str(random.randint(1, 10)) + ',' + str(random.randint(1, 100)))"
   ]
  },
  {
   "cell_type": "code",
   "execution_count": 7,
   "metadata": {},
   "outputs": [
    {
     "data": {
      "text/plain": [
       "[('4', (8, 90)),\n",
       " ('9', (50, 100)),\n",
       " ('10', (14, 100)),\n",
       " ('1', (5, 92)),\n",
       " ('8', (3, 97)),\n",
       " ('2', (5, 89)),\n",
       " ('5', (1, 96)),\n",
       " ('3', (13, 92)),\n",
       " ('7', (10, 79)),\n",
       " ('6', (2, 88))]"
      ]
     },
     "execution_count": 7,
     "metadata": {},
     "output_type": "execute_result"
    }
   ],
   "source": [
    "\n",
    "def mapper(record):\n",
    "    rec = record.split(',')\n",
    "    name = rec[0]\n",
    "    grade = int(rec[1])\n",
    "\n",
    "    return (name, grade)\n",
    "\n",
    "def select_min_max(values):\n",
    "    return (min(values), max(values))\n",
    "\n",
    "\n",
    "rdd8 = sc.parallelize(id_Grades)\n",
    "result = rdd8.map(mapper).groupByKey().mapValues(select_min_max).collect()\n",
    "result"
   ]
  },
  {
   "cell_type": "markdown",
   "metadata": {},
   "source": [
    "### 11"
   ]
  },
  {
   "cell_type": "code",
   "execution_count": 14,
   "metadata": {},
   "outputs": [
    {
     "data": {
      "text/plain": [
       "[(('you', 'doing'), 2),\n",
       " (('Hello', 'how'), 3),\n",
       " (('how', 'are'), 4),\n",
       " (('are', 'you'), 4),\n",
       " (('Hi', 'how'), 1)]"
      ]
     },
     "execution_count": 14,
     "metadata": {},
     "output_type": "execute_result"
    }
   ],
   "source": [
    "rdd11 = sc.textFile('11.txt')\n",
    "def mapper(record):\n",
    "    words = record.split(',')\n",
    "    pairs_list = []\n",
    "    for i in range(len(words) - 1):\n",
    "        pairs_list.append((words[i], words[i+1]))\n",
    "    return pairs_list\n",
    "#rdd11.collect()\n",
    "tmp = rdd11.flatMap(mapper).map(lambda x: (x, 1)).reduceByKey(lambda a, b: a + b).collect()\n",
    "tmp"
   ]
  },
  {
   "cell_type": "markdown",
   "metadata": {},
   "source": [
    "### 12"
   ]
  },
  {
   "cell_type": "markdown",
   "metadata": {},
   "source": [
    "#### a"
   ]
  },
  {
   "cell_type": "code",
   "execution_count": 16,
   "metadata": {},
   "outputs": [
    {
     "data": {
      "text/plain": [
       "'\\n(k1, 4)\\n(k2, 2)\\n(k3, 2)\\n(k1, 2)\\n(k2, 2)\\n(k2, 2)\\n(k3, 8)\\n(k3, 6)\\n'"
      ]
     },
     "execution_count": 16,
     "metadata": {},
     "output_type": "execute_result"
    }
   ],
   "source": [
    "'''\n",
    "(\"k1\", 4)\n",
    "(k2, 2)\n",
    "(k3, 2)\n",
    "(k1, 2)\n",
    "(k2, 2)\n",
    "(k2, 2)\n",
    "(k3, 8)\n",
    "(k3, 6)\n",
    "'''"
   ]
  },
  {
   "cell_type": "markdown",
   "metadata": {},
   "source": [
    "#### b"
   ]
  },
  {
   "cell_type": "code",
   "execution_count": 17,
   "metadata": {},
   "outputs": [
    {
     "data": {
      "text/plain": [
       "'\\n\"k1\" : [4, 2]\\n\"k2\" : [2, 2, 2]\\n\"k3\" : [2, 8, 6]\\n'"
      ]
     },
     "execution_count": 17,
     "metadata": {},
     "output_type": "execute_result"
    }
   ],
   "source": [
    "'''\n",
    "\"k1\" : [4, 2]\n",
    "\"k2\" : [2, 2, 2]\n",
    "\"k3\" : [2, 8, 6]\n",
    "'''"
   ]
  },
  {
   "cell_type": "markdown",
   "metadata": {},
   "source": [
    "#### c"
   ]
  },
  {
   "cell_type": "code",
   "execution_count": 18,
   "metadata": {},
   "outputs": [
    {
     "data": {
      "text/plain": [
       "'\\n((\"k1\", 6), (\"k2\", 6), (\"k3\", 16))\\n'"
      ]
     },
     "execution_count": 18,
     "metadata": {},
     "output_type": "execute_result"
    }
   ],
   "source": [
    "'''\n",
    "((\"k1\", 6), (\"k2\", 6), (\"k3\", 16))\n",
    "'''"
   ]
  },
  {
   "cell_type": "markdown",
   "metadata": {},
   "source": [
    "### 13 ?"
   ]
  },
  {
   "cell_type": "markdown",
   "metadata": {},
   "source": [
    "### 14"
   ]
  },
  {
   "cell_type": "code",
   "execution_count": 36,
   "metadata": {},
   "outputs": [
    {
     "name": "stdout",
     "output_type": "stream",
     "text": [
      "0.3333333333333333\n"
     ]
    }
   ],
   "source": [
    "rdd14 = sc.textFile(\"16\")\n",
    "#rdd14.getNumPartitions()\n",
    "#print(rdd14.collect())\n",
    "def mapper(sentence):\n",
    "    words = sentence.split(' ')\n",
    "    cnt = 0\n",
    "    pcnt = 0\n",
    "    for word in words:\n",
    "        cnt+=1\n",
    "        length = len(word)-1\n",
    "        is_p = True\n",
    "        for i in range(len(word)):\n",
    "            if(word[i] != word[length-i]):\n",
    "                is_p=False\n",
    "                break\n",
    "        if(is_p == True):\n",
    "            pcnt+=1\n",
    "    return (pcnt, cnt)\n",
    "\n",
    "def reducer(pair1, pair2):\n",
    "    return (pair1[0]+pair2[0], pair1[1] + pair2[1])\n",
    "\n",
    "#pair = mapper('wow i thought i did forgot all the stuff you told me')\n",
    "#pair\n",
    "result = rdd14.map(mapper).reduce(lambda a,b: (a[0]+b[0], a[1]+b[1]))\n",
    "print(result[0]/result[1])\n"
   ]
  },
  {
   "cell_type": "markdown",
   "metadata": {},
   "source": [
    "### 17?\n"
   ]
  },
  {
   "cell_type": "markdown",
   "metadata": {},
   "source": [
    "### 18\n",
    "+ a: format of the output of map: `(\"key\", value),(\"key\", key), (\"key1\",1)/(\"key2\", 2)`\n",
    "+ b: (\"key\", []) (\"key1\", []) (\"key2\", [])\n",
    "+ c: 3\n",
    "+ d: pass"
   ]
  },
  {
   "cell_type": "markdown",
   "metadata": {},
   "source": [
    "\n",
    "### 19"
   ]
  },
  {
   "cell_type": "code",
   "execution_count": null,
   "metadata": {},
   "outputs": [],
   "source": [
    "'''\n",
    "def mapper(key: documentNumber, value: document):\n",
    "    words = document.split(' ')\n",
    "    for i in range(len(words)):\n",
    "        emit(words[i], (key, i))\n",
    "\n",
    "def reducer(key:words[i], (documentNumber, i)):\n",
    "    for \n",
    "'''"
   ]
  }
 ],
 "metadata": {
  "interpreter": {
   "hash": "916dbcbb3f70747c44a77c7bcd40155683ae19c65e1c03b4aa3499c5328201f1"
  },
  "kernelspec": {
   "display_name": "Python 3.8.10 64-bit",
   "language": "python",
   "name": "python3"
  },
  "language_info": {
   "codemirror_mode": {
    "name": "ipython",
    "version": 3
   },
   "file_extension": ".py",
   "mimetype": "text/x-python",
   "name": "python",
   "nbconvert_exporter": "python",
   "pygments_lexer": "ipython3",
   "version": "3.8.10"
  },
  "orig_nbformat": 4
 },
 "nbformat": 4,
 "nbformat_minor": 2
}
