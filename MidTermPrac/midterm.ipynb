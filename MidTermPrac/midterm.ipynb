{
 "cells": [
  {
   "cell_type": "code",
   "execution_count": 1,
   "metadata": {},
   "outputs": [
    {
     "name": "stderr",
     "output_type": "stream",
     "text": [
      "22/05/10 19:49:42 WARN Utils: Your hostname, ubuntu resolves to a loopback address: 127.0.1.1; using 192.168.108.128 instead (on interface ens33)\n",
      "22/05/10 19:49:42 WARN Utils: Set SPARK_LOCAL_IP if you need to bind to another address\n",
      "Using Spark's default log4j profile: org/apache/spark/log4j-defaults.properties\n",
      "Setting default log level to \"WARN\".\n",
      "To adjust logging level use sc.setLogLevel(newLevel). For SparkR, use setLogLevel(newLevel).\n",
      "22/05/10 19:49:43 WARN NativeCodeLoader: Unable to load native-hadoop library for your platform... using builtin-java classes where applicable\n"
     ]
    }
   ],
   "source": [
    "from pyspark.sql import SparkSession\n",
    "\n",
    "spark = SparkSession.builder.appName(\"mid\").getOrCreate()\n",
    "sc = spark.sparkContext"
   ]
  },
  {
   "cell_type": "code",
   "execution_count": null,
   "metadata": {},
   "outputs": [],
   "source": []
  },
  {
   "cell_type": "code",
   "execution_count": null,
   "metadata": {},
   "outputs": [],
   "source": [
    "def select(record):\n",
    "    tokens = record.split(',')\n",
    "    usr = tokens[0]\n",
    "    movie = tokens[1]\n",
    "    rating = tokens[2]\n",
    "    if(rating >= 3):\n",
    "        return (usr, movie)\n",
    "    else:\n",
    "        return None"
   ]
  },
  {
   "cell_type": "code",
   "execution_count": 2,
   "metadata": {},
   "outputs": [],
   "source": [
    "data = [('A', 5), ('A', -3), ('B', 3), ('B', -2), ('B', 21)]\n",
    "rdd = sc.parallelize(data)"
   ]
  },
  {
   "cell_type": "code",
   "execution_count": 3,
   "metadata": {},
   "outputs": [],
   "source": [
    "def select(record):\n",
    "    key = record[0]\n",
    "    value = record[1]\n",
    "    if(value >0):\n",
    "        return (key, (1, value))\n",
    "    else:\n",
    "        return None\n",
    "target_rdd = rdd.map(select).filter(lambda x: x is not None).reduceByKey(lambda x,y: ((x[0] + y[0]), (x[1] + y[1]))).map(lambda x: (x[0], (x[1][0], x[1][1] / x[1][0])))"
   ]
  },
  {
   "cell_type": "code",
   "execution_count": 4,
   "metadata": {},
   "outputs": [
    {
     "name": "stderr",
     "output_type": "stream",
     "text": [
      "                                                                                \r"
     ]
    },
    {
     "data": {
      "text/plain": [
       "[('A', (1, 5.0)), ('B', (2, 12.0))]"
      ]
     },
     "execution_count": 4,
     "metadata": {},
     "output_type": "execute_result"
    }
   ],
   "source": [
    "target_rdd.collect()"
   ]
  },
  {
   "cell_type": "code",
   "execution_count": 5,
   "metadata": {},
   "outputs": [],
   "source": [
    "data = [1,1,1,0,0,0,-2,-2,-2,-2,-2]\n",
    "rdd=sc.parallelize(data)"
   ]
  },
  {
   "cell_type": "code",
   "execution_count": 13,
   "metadata": {},
   "outputs": [],
   "source": [
    "def zpn(partition):\n",
    "    z = 0\n",
    "    p = 0\n",
    "    n = 0\n",
    "    for value in partition:\n",
    "        if(value > 0):\n",
    "            p+=1\n",
    "        elif(value < 0):\n",
    "            n+=1\n",
    "        else:\n",
    "            z+=1\n",
    "    return [(z, p, n)]\n",
    "#assume number is int type and may be in str type after loading from file\n",
    "target_rdd = rdd.map(lambda x: int(x)).mapPartitions(zpn).reduce(lambda a, b: (a[0] + b[0], a[1] + b[1], a[2] + b[2]))"
   ]
  },
  {
   "cell_type": "code",
   "execution_count": 14,
   "metadata": {},
   "outputs": [
    {
     "data": {
      "text/plain": [
       "(3, 3, 5)"
      ]
     },
     "execution_count": 14,
     "metadata": {},
     "output_type": "execute_result"
    }
   ],
   "source": [
    "target_rdd"
   ]
  },
  {
   "cell_type": "code",
   "execution_count": 21,
   "metadata": {},
   "outputs": [],
   "source": [
    "data = [('A', 5), ('A', -3), ('B', 3), ('B', -2), ('B', 21)]\n",
    "rdd = spark.sparkContext.parallelize(data)\n",
    "\n",
    "target_rdd = rdd.map(lambda x: (x[0], (1, x[1], x[1]))).\\\n",
    "reduceByKey(lambda a, b: (a[0] + b[0], a[1] + b[1])).\\\n",
    "map(lambda x: (x[0], (x[1][0], x[1][1], x[1][1]/x[1][0])))"
   ]
  },
  {
   "cell_type": "code",
   "execution_count": 22,
   "metadata": {},
   "outputs": [
    {
     "data": {
      "text/plain": [
       "[('A', (2, 2, 1.0)), ('B', (3, 22, 7.333333333333333))]"
      ]
     },
     "execution_count": 22,
     "metadata": {},
     "output_type": "execute_result"
    }
   ],
   "source": [
    "target_rdd.collect()"
   ]
  },
  {
   "cell_type": "code",
   "execution_count": null,
   "metadata": {},
   "outputs": [],
   "source": []
  }
 ],
 "metadata": {
  "interpreter": {
   "hash": "916dbcbb3f70747c44a77c7bcd40155683ae19c65e1c03b4aa3499c5328201f1"
  },
  "kernelspec": {
   "display_name": "Python 3.8.10 64-bit",
   "language": "python",
   "name": "python3"
  },
  "language_info": {
   "codemirror_mode": {
    "name": "ipython",
    "version": 3
   },
   "file_extension": ".py",
   "mimetype": "text/x-python",
   "name": "python",
   "nbconvert_exporter": "python",
   "pygments_lexer": "ipython3",
   "version": "3.8.10"
  },
  "orig_nbformat": 4
 },
 "nbformat": 4,
 "nbformat_minor": 2
}
